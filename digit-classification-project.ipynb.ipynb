{
 "cells": [
  {
   "cell_type": "code",
   "execution_count": 1,
   "id": "5e9879c8",
   "metadata": {
    "_cell_guid": "b1076dfc-b9ad-4769-8c92-a6c4dae69d19",
    "_uuid": "8f2839f25d086af736a60e9eeb907d3b93b6e0e5",
    "execution": {
     "iopub.execute_input": "2025-07-11T05:19:48.598931Z",
     "iopub.status.busy": "2025-07-11T05:19:48.598396Z",
     "iopub.status.idle": "2025-07-11T05:19:50.058776Z",
     "shell.execute_reply": "2025-07-11T05:19:50.057782Z"
    },
    "papermill": {
     "duration": 1.46697,
     "end_time": "2025-07-11T05:19:50.060386",
     "exception": false,
     "start_time": "2025-07-11T05:19:48.593416",
     "status": "completed"
    },
    "tags": []
   },
   "outputs": [
    {
     "name": "stdout",
     "output_type": "stream",
     "text": [
      "/kaggle/input/digit-recognizer/sample_submission.csv\n",
      "/kaggle/input/digit-recognizer/train.csv\n",
      "/kaggle/input/digit-recognizer/test.csv\n"
     ]
    }
   ],
   "source": [
    "# This Python 3 environment comes with many helpful analytics libraries installed\n",
    "# It is defined by the kaggle/python Docker image: https://github.com/kaggle/docker-python\n",
    "# For example, here's several helpful packages to load\n",
    "\n",
    "import numpy as np # linear algebra\n",
    "import pandas as pd # data processing, CSV file I/O (e.g. pd.read_csv)\n",
    "\n",
    "# Input data files are available in the read-only \"../input/\" directory\n",
    "# For example, running this (by clicking run or pressing Shift+Enter) will list all files under the input directory\n",
    "\n",
    "import os\n",
    "for dirname, _, filenames in os.walk('/kaggle/input'):\n",
    "    for filename in filenames:\n",
    "        print(os.path.join(dirname, filename))\n",
    "\n",
    "# You can write up to 20GB to the current directory (/kaggle/working/) that gets preserved as output when you create a version using \"Save & Run All\" \n",
    "# You can also write temporary files to /kaggle/temp/, but they won't be saved outside of the current session"
   ]
  },
  {
   "cell_type": "code",
   "execution_count": 2,
   "id": "45c6b1db",
   "metadata": {
    "execution": {
     "iopub.execute_input": "2025-07-11T05:19:50.069494Z",
     "iopub.status.busy": "2025-07-11T05:19:50.068731Z",
     "iopub.status.idle": "2025-07-11T05:19:50.072447Z",
     "shell.execute_reply": "2025-07-11T05:19:50.071710Z"
    },
    "papermill": {
     "duration": 0.009397,
     "end_time": "2025-07-11T05:19:50.073591",
     "exception": false,
     "start_time": "2025-07-11T05:19:50.064194",
     "status": "completed"
    },
    "tags": []
   },
   "outputs": [],
   "source": [
    "import matplotlib.pyplot as plt"
   ]
  },
  {
   "cell_type": "code",
   "execution_count": 3,
   "id": "6cafe3a8",
   "metadata": {
    "execution": {
     "iopub.execute_input": "2025-07-11T05:19:50.080639Z",
     "iopub.status.busy": "2025-07-11T05:19:50.080417Z",
     "iopub.status.idle": "2025-07-11T05:19:52.907084Z",
     "shell.execute_reply": "2025-07-11T05:19:52.906464Z"
    },
    "papermill": {
     "duration": 2.831602,
     "end_time": "2025-07-11T05:19:52.908426",
     "exception": false,
     "start_time": "2025-07-11T05:19:50.076824",
     "status": "completed"
    },
    "tags": []
   },
   "outputs": [],
   "source": [
    "data = pd.read_csv(\"/kaggle/input/digit-recognizer/train.csv\")"
   ]
  },
  {
   "cell_type": "code",
   "execution_count": 4,
   "id": "a08b6aa2",
   "metadata": {
    "execution": {
     "iopub.execute_input": "2025-07-11T05:19:52.915486Z",
     "iopub.status.busy": "2025-07-11T05:19:52.915220Z",
     "iopub.status.idle": "2025-07-11T05:19:52.938070Z",
     "shell.execute_reply": "2025-07-11T05:19:52.937419Z"
    },
    "papermill": {
     "duration": 0.027775,
     "end_time": "2025-07-11T05:19:52.939294",
     "exception": false,
     "start_time": "2025-07-11T05:19:52.911519",
     "status": "completed"
    },
    "tags": []
   },
   "outputs": [
    {
     "data": {
      "text/html": [
       "<div>\n",
       "<style scoped>\n",
       "    .dataframe tbody tr th:only-of-type {\n",
       "        vertical-align: middle;\n",
       "    }\n",
       "\n",
       "    .dataframe tbody tr th {\n",
       "        vertical-align: top;\n",
       "    }\n",
       "\n",
       "    .dataframe thead th {\n",
       "        text-align: right;\n",
       "    }\n",
       "</style>\n",
       "<table border=\"1\" class=\"dataframe\">\n",
       "  <thead>\n",
       "    <tr style=\"text-align: right;\">\n",
       "      <th></th>\n",
       "      <th>label</th>\n",
       "      <th>pixel0</th>\n",
       "      <th>pixel1</th>\n",
       "      <th>pixel2</th>\n",
       "      <th>pixel3</th>\n",
       "      <th>pixel4</th>\n",
       "      <th>pixel5</th>\n",
       "      <th>pixel6</th>\n",
       "      <th>pixel7</th>\n",
       "      <th>pixel8</th>\n",
       "      <th>...</th>\n",
       "      <th>pixel774</th>\n",
       "      <th>pixel775</th>\n",
       "      <th>pixel776</th>\n",
       "      <th>pixel777</th>\n",
       "      <th>pixel778</th>\n",
       "      <th>pixel779</th>\n",
       "      <th>pixel780</th>\n",
       "      <th>pixel781</th>\n",
       "      <th>pixel782</th>\n",
       "      <th>pixel783</th>\n",
       "    </tr>\n",
       "  </thead>\n",
       "  <tbody>\n",
       "    <tr>\n",
       "      <th>0</th>\n",
       "      <td>1</td>\n",
       "      <td>0</td>\n",
       "      <td>0</td>\n",
       "      <td>0</td>\n",
       "      <td>0</td>\n",
       "      <td>0</td>\n",
       "      <td>0</td>\n",
       "      <td>0</td>\n",
       "      <td>0</td>\n",
       "      <td>0</td>\n",
       "      <td>...</td>\n",
       "      <td>0</td>\n",
       "      <td>0</td>\n",
       "      <td>0</td>\n",
       "      <td>0</td>\n",
       "      <td>0</td>\n",
       "      <td>0</td>\n",
       "      <td>0</td>\n",
       "      <td>0</td>\n",
       "      <td>0</td>\n",
       "      <td>0</td>\n",
       "    </tr>\n",
       "    <tr>\n",
       "      <th>1</th>\n",
       "      <td>0</td>\n",
       "      <td>0</td>\n",
       "      <td>0</td>\n",
       "      <td>0</td>\n",
       "      <td>0</td>\n",
       "      <td>0</td>\n",
       "      <td>0</td>\n",
       "      <td>0</td>\n",
       "      <td>0</td>\n",
       "      <td>0</td>\n",
       "      <td>...</td>\n",
       "      <td>0</td>\n",
       "      <td>0</td>\n",
       "      <td>0</td>\n",
       "      <td>0</td>\n",
       "      <td>0</td>\n",
       "      <td>0</td>\n",
       "      <td>0</td>\n",
       "      <td>0</td>\n",
       "      <td>0</td>\n",
       "      <td>0</td>\n",
       "    </tr>\n",
       "    <tr>\n",
       "      <th>2</th>\n",
       "      <td>1</td>\n",
       "      <td>0</td>\n",
       "      <td>0</td>\n",
       "      <td>0</td>\n",
       "      <td>0</td>\n",
       "      <td>0</td>\n",
       "      <td>0</td>\n",
       "      <td>0</td>\n",
       "      <td>0</td>\n",
       "      <td>0</td>\n",
       "      <td>...</td>\n",
       "      <td>0</td>\n",
       "      <td>0</td>\n",
       "      <td>0</td>\n",
       "      <td>0</td>\n",
       "      <td>0</td>\n",
       "      <td>0</td>\n",
       "      <td>0</td>\n",
       "      <td>0</td>\n",
       "      <td>0</td>\n",
       "      <td>0</td>\n",
       "    </tr>\n",
       "    <tr>\n",
       "      <th>3</th>\n",
       "      <td>4</td>\n",
       "      <td>0</td>\n",
       "      <td>0</td>\n",
       "      <td>0</td>\n",
       "      <td>0</td>\n",
       "      <td>0</td>\n",
       "      <td>0</td>\n",
       "      <td>0</td>\n",
       "      <td>0</td>\n",
       "      <td>0</td>\n",
       "      <td>...</td>\n",
       "      <td>0</td>\n",
       "      <td>0</td>\n",
       "      <td>0</td>\n",
       "      <td>0</td>\n",
       "      <td>0</td>\n",
       "      <td>0</td>\n",
       "      <td>0</td>\n",
       "      <td>0</td>\n",
       "      <td>0</td>\n",
       "      <td>0</td>\n",
       "    </tr>\n",
       "    <tr>\n",
       "      <th>4</th>\n",
       "      <td>0</td>\n",
       "      <td>0</td>\n",
       "      <td>0</td>\n",
       "      <td>0</td>\n",
       "      <td>0</td>\n",
       "      <td>0</td>\n",
       "      <td>0</td>\n",
       "      <td>0</td>\n",
       "      <td>0</td>\n",
       "      <td>0</td>\n",
       "      <td>...</td>\n",
       "      <td>0</td>\n",
       "      <td>0</td>\n",
       "      <td>0</td>\n",
       "      <td>0</td>\n",
       "      <td>0</td>\n",
       "      <td>0</td>\n",
       "      <td>0</td>\n",
       "      <td>0</td>\n",
       "      <td>0</td>\n",
       "      <td>0</td>\n",
       "    </tr>\n",
       "  </tbody>\n",
       "</table>\n",
       "<p>5 rows × 785 columns</p>\n",
       "</div>"
      ],
      "text/plain": [
       "   label  pixel0  pixel1  pixel2  pixel3  pixel4  pixel5  pixel6  pixel7  \\\n",
       "0      1       0       0       0       0       0       0       0       0   \n",
       "1      0       0       0       0       0       0       0       0       0   \n",
       "2      1       0       0       0       0       0       0       0       0   \n",
       "3      4       0       0       0       0       0       0       0       0   \n",
       "4      0       0       0       0       0       0       0       0       0   \n",
       "\n",
       "   pixel8  ...  pixel774  pixel775  pixel776  pixel777  pixel778  pixel779  \\\n",
       "0       0  ...         0         0         0         0         0         0   \n",
       "1       0  ...         0         0         0         0         0         0   \n",
       "2       0  ...         0         0         0         0         0         0   \n",
       "3       0  ...         0         0         0         0         0         0   \n",
       "4       0  ...         0         0         0         0         0         0   \n",
       "\n",
       "   pixel780  pixel781  pixel782  pixel783  \n",
       "0         0         0         0         0  \n",
       "1         0         0         0         0  \n",
       "2         0         0         0         0  \n",
       "3         0         0         0         0  \n",
       "4         0         0         0         0  \n",
       "\n",
       "[5 rows x 785 columns]"
      ]
     },
     "execution_count": 4,
     "metadata": {},
     "output_type": "execute_result"
    }
   ],
   "source": [
    "data.head()"
   ]
  },
  {
   "cell_type": "code",
   "execution_count": 5,
   "id": "77cf2b8c",
   "metadata": {
    "execution": {
     "iopub.execute_input": "2025-07-11T05:19:52.946865Z",
     "iopub.status.busy": "2025-07-11T05:19:52.946656Z",
     "iopub.status.idle": "2025-07-11T05:19:53.045623Z",
     "shell.execute_reply": "2025-07-11T05:19:53.044907Z"
    },
    "papermill": {
     "duration": 0.104463,
     "end_time": "2025-07-11T05:19:53.047176",
     "exception": false,
     "start_time": "2025-07-11T05:19:52.942713",
     "status": "completed"
    },
    "tags": []
   },
   "outputs": [],
   "source": [
    "data = np.array(data)"
   ]
  },
  {
   "cell_type": "code",
   "execution_count": 6,
   "id": "b2036d5f",
   "metadata": {
    "execution": {
     "iopub.execute_input": "2025-07-11T05:19:53.055241Z",
     "iopub.status.busy": "2025-07-11T05:19:53.054940Z",
     "iopub.status.idle": "2025-07-11T05:19:53.059631Z",
     "shell.execute_reply": "2025-07-11T05:19:53.059077Z"
    },
    "papermill": {
     "duration": 0.009714,
     "end_time": "2025-07-11T05:19:53.060576",
     "exception": false,
     "start_time": "2025-07-11T05:19:53.050862",
     "status": "completed"
    },
    "tags": []
   },
   "outputs": [
    {
     "data": {
      "text/plain": [
       "array([[1, 0, 0, ..., 0, 0, 0],\n",
       "       [0, 0, 0, ..., 0, 0, 0],\n",
       "       [1, 0, 0, ..., 0, 0, 0],\n",
       "       ...,\n",
       "       [7, 0, 0, ..., 0, 0, 0],\n",
       "       [6, 0, 0, ..., 0, 0, 0],\n",
       "       [9, 0, 0, ..., 0, 0, 0]])"
      ]
     },
     "execution_count": 6,
     "metadata": {},
     "output_type": "execute_result"
    }
   ],
   "source": [
    "data\n"
   ]
  },
  {
   "cell_type": "code",
   "execution_count": 7,
   "id": "b118ffe9",
   "metadata": {
    "execution": {
     "iopub.execute_input": "2025-07-11T05:19:53.067555Z",
     "iopub.status.busy": "2025-07-11T05:19:53.067385Z",
     "iopub.status.idle": "2025-07-11T05:19:53.070602Z",
     "shell.execute_reply": "2025-07-11T05:19:53.069940Z"
    },
    "papermill": {
     "duration": 0.007971,
     "end_time": "2025-07-11T05:19:53.071632",
     "exception": false,
     "start_time": "2025-07-11T05:19:53.063661",
     "status": "completed"
    },
    "tags": []
   },
   "outputs": [],
   "source": [
    "m , n = data.shape"
   ]
  },
  {
   "cell_type": "code",
   "execution_count": 8,
   "id": "287c3896",
   "metadata": {
    "execution": {
     "iopub.execute_input": "2025-07-11T05:19:53.078970Z",
     "iopub.status.busy": "2025-07-11T05:19:53.078528Z",
     "iopub.status.idle": "2025-07-11T05:19:53.524316Z",
     "shell.execute_reply": "2025-07-11T05:19:53.523446Z"
    },
    "papermill": {
     "duration": 0.45111,
     "end_time": "2025-07-11T05:19:53.525893",
     "exception": false,
     "start_time": "2025-07-11T05:19:53.074783",
     "status": "completed"
    },
    "tags": []
   },
   "outputs": [
    {
     "data": {
      "text/plain": [
       "(42000, 785)"
      ]
     },
     "execution_count": 8,
     "metadata": {},
     "output_type": "execute_result"
    }
   ],
   "source": [
    "np.random.shuffle(data)\n",
    "m, n"
   ]
  },
  {
   "cell_type": "code",
   "execution_count": 9,
   "id": "ef4e522a",
   "metadata": {
    "execution": {
     "iopub.execute_input": "2025-07-11T05:19:53.533902Z",
     "iopub.status.busy": "2025-07-11T05:19:53.533686Z",
     "iopub.status.idle": "2025-07-11T05:19:53.537548Z",
     "shell.execute_reply": "2025-07-11T05:19:53.537025Z"
    },
    "papermill": {
     "duration": 0.008653,
     "end_time": "2025-07-11T05:19:53.538556",
     "exception": false,
     "start_time": "2025-07-11T05:19:53.529903",
     "status": "completed"
    },
    "tags": []
   },
   "outputs": [],
   "source": [
    "data_dev = data[0:1000].T\n",
    "Y_dev = data_dev[0]\n",
    "X_dev = data_dev[1:n]\n",
    "\n",
    "data_train = data[1000:m].T\n",
    "Y_train = data_train[0]\n",
    "X_train = data_train[1:n]"
   ]
  },
  {
   "cell_type": "code",
   "execution_count": 10,
   "id": "7a66f730",
   "metadata": {
    "execution": {
     "iopub.execute_input": "2025-07-11T05:19:53.545863Z",
     "iopub.status.busy": "2025-07-11T05:19:53.545386Z",
     "iopub.status.idle": "2025-07-11T05:19:53.663307Z",
     "shell.execute_reply": "2025-07-11T05:19:53.662676Z"
    },
    "papermill": {
     "duration": 0.123009,
     "end_time": "2025-07-11T05:19:53.664678",
     "exception": false,
     "start_time": "2025-07-11T05:19:53.541669",
     "status": "completed"
    },
    "tags": []
   },
   "outputs": [],
   "source": [
    "X_train = X_train / 255.0\n",
    "X_dev = X_dev / 255.0"
   ]
  },
  {
   "cell_type": "code",
   "execution_count": 11,
   "id": "5638203c",
   "metadata": {
    "execution": {
     "iopub.execute_input": "2025-07-11T05:19:53.673036Z",
     "iopub.status.busy": "2025-07-11T05:19:53.672294Z",
     "iopub.status.idle": "2025-07-11T05:19:53.678876Z",
     "shell.execute_reply": "2025-07-11T05:19:53.678119Z"
    },
    "papermill": {
     "duration": 0.011447,
     "end_time": "2025-07-11T05:19:53.679943",
     "exception": false,
     "start_time": "2025-07-11T05:19:53.668496",
     "status": "completed"
    },
    "tags": []
   },
   "outputs": [
    {
     "data": {
      "text/plain": [
       "array([8, 3, 9, 0, 5, 6, 4, 1, 9, 4, 3, 7, 1, 9, 3, 9, 9, 7, 7, 9, 3, 5,\n",
       "       4, 3, 8, 0, 8, 0, 5, 6, 7, 5, 4, 0, 9, 9, 9, 0, 3, 7, 8, 1, 6, 1,\n",
       "       6, 0, 4, 3, 5, 1, 4, 9, 4, 7, 1, 4, 6, 9, 9, 9, 0, 2, 8, 6, 2, 0,\n",
       "       6, 8, 2, 2, 4, 6, 9, 3, 8, 7, 8, 3, 7, 1, 5, 2, 3, 2, 6, 1, 8, 5,\n",
       "       2, 6, 9, 1, 9, 8, 3, 8, 3, 6, 0, 5, 8, 9, 4, 2, 9, 6, 4, 4, 3, 3,\n",
       "       7, 7, 4, 8, 8, 9, 2, 0, 0, 3, 2, 0, 8, 7, 6, 4, 0, 5, 8, 3, 8, 0,\n",
       "       1, 8, 5, 3, 0, 3, 9, 9, 9, 2, 7, 9, 5, 2, 0, 6, 1, 7, 9, 1, 0, 4,\n",
       "       0, 9, 5, 6, 3, 0, 7, 0, 1, 2, 2, 5, 4, 3, 1, 6, 5, 0, 6, 4, 5, 1,\n",
       "       3, 3, 5, 4, 7, 4, 3, 0, 0, 5, 2, 3, 1, 9, 1, 6, 6, 1, 1, 2, 0, 3,\n",
       "       1, 0, 0, 7, 6, 5, 5, 1, 6, 0, 4, 3, 0, 2, 7, 8, 9, 5, 0, 2, 0, 0,\n",
       "       8, 1, 1, 3, 5, 1, 3, 2, 9, 2, 2, 2, 3, 5, 8, 9, 2, 5, 9, 7, 5, 9,\n",
       "       1, 2, 2, 8, 6, 3, 3, 4, 2, 8, 8, 1, 9, 6, 4, 1, 2, 5, 2, 0, 4, 0,\n",
       "       7, 3, 1, 3, 8, 0, 6, 1, 5, 7, 7, 8, 4, 6, 1, 1, 0, 6, 0, 7, 7, 7,\n",
       "       3, 4, 3, 4, 2, 9, 9, 8, 9, 0, 0, 7, 9, 8, 0, 7, 6, 1, 4, 3, 0, 6,\n",
       "       9, 8, 9, 7, 8, 0, 8, 3, 5, 3, 9, 5, 6, 2, 5, 3, 6, 3, 6, 2, 8, 4,\n",
       "       7, 7, 6, 0, 8, 9, 1, 4, 7, 1, 6, 3, 1, 8, 0, 7, 0, 5, 0, 8, 6, 7,\n",
       "       0, 1, 8, 0, 2, 9, 9, 6, 1, 5, 3, 3, 2, 9, 9, 6, 1, 6, 3, 5, 1, 6,\n",
       "       3, 6, 9, 4, 4, 5, 8, 7, 0, 6, 2, 2, 2, 0, 7, 7, 5, 1, 0, 9, 1, 7,\n",
       "       6, 8, 4, 6, 4, 1, 0, 3, 1, 1, 5, 7, 3, 7, 0, 2, 8, 4, 2, 2, 3, 6,\n",
       "       5, 3, 6, 2, 5, 3, 8, 8, 9, 0, 6, 7, 5, 8, 8, 1, 8, 6, 7, 4, 7, 5,\n",
       "       4, 4, 9, 2, 3, 2, 6, 6, 5, 8, 0, 0, 5, 3, 8, 2, 2, 6, 8, 3, 9, 9,\n",
       "       3, 6, 3, 6, 2, 8, 5, 3, 7, 4, 5, 4, 6, 3, 5, 9, 4, 7, 0, 4, 1, 2,\n",
       "       0, 7, 5, 3, 0, 6, 0, 6, 9, 2, 7, 9, 5, 0, 9, 3, 2, 6, 9, 1, 2, 4,\n",
       "       5, 1, 3, 2, 1, 2, 3, 1, 2, 2, 0, 3, 4, 7, 4, 7, 3, 2, 7, 6, 9, 9,\n",
       "       3, 9, 0, 7, 2, 1, 7, 9, 0, 7, 6, 2, 1, 1, 6, 7, 7, 7, 7, 4, 9, 5,\n",
       "       3, 9, 2, 1, 1, 9, 3, 7, 9, 9, 2, 2, 3, 8, 0, 0, 2, 9, 1, 8, 1, 1,\n",
       "       9, 9, 3, 7, 0, 6, 9, 0, 8, 6, 9, 5, 9, 6, 6, 0, 6, 1, 1, 0, 7, 6,\n",
       "       8, 4, 9, 5, 8, 8, 3, 4, 6, 0, 9, 1, 2, 9, 1, 4, 1, 1, 8, 5, 3, 4,\n",
       "       7, 6, 3, 1, 6, 9, 7, 3, 7, 4, 5, 2, 2, 5, 7, 6, 9, 5, 2, 8, 1, 6,\n",
       "       3, 8, 8, 4, 3, 4, 1, 9, 1, 8, 8, 2, 3, 1, 4, 0, 2, 6, 1, 2, 8, 2,\n",
       "       5, 6, 0, 3, 9, 8, 3, 6, 8, 2, 1, 2, 4, 0, 5, 8, 0, 5, 9, 5, 9, 0,\n",
       "       4, 1, 5, 7, 0, 1, 0, 8, 1, 8, 7, 0, 2, 4, 1, 6, 0, 3, 2, 2, 4, 6,\n",
       "       8, 6, 5, 1, 3, 4, 2, 0, 7, 2, 3, 8, 1, 7, 2, 0, 7, 0, 5, 7, 9, 1,\n",
       "       5, 1, 3, 8, 8, 0, 8, 5, 7, 7, 1, 3, 4, 3, 1, 3, 8, 2, 5, 9, 2, 1,\n",
       "       9, 6, 9, 9, 1, 3, 2, 4, 8, 7, 7, 8, 8, 7, 5, 3, 3, 1, 5, 2, 1, 0,\n",
       "       7, 1, 2, 0, 1, 9, 4, 8, 8, 4, 1, 7, 5, 7, 1, 3, 9, 5, 9, 0, 6, 1,\n",
       "       0, 9, 2, 0, 8, 9, 9, 2, 6, 7, 5, 5, 8, 4, 7, 6, 0, 6, 1, 2, 6, 1,\n",
       "       1, 0, 2, 0, 6, 4, 0, 4, 0, 8, 9, 9, 7, 4, 3, 5, 8, 5, 5, 9, 2, 8,\n",
       "       6, 2, 8, 0, 3, 8, 2, 6, 3, 8, 2, 0, 7, 9, 0, 3, 8, 7, 3, 8, 9, 1,\n",
       "       7, 3, 1, 3, 5, 6, 7, 4, 9, 5, 4, 5, 9, 8, 2, 3, 6, 8, 3, 4, 0, 0,\n",
       "       9, 3, 3, 9, 2, 6, 4, 3, 8, 5, 0, 3, 5, 9, 4, 1, 9, 2, 0, 6, 2, 3,\n",
       "       9, 4, 1, 0, 5, 9, 8, 1, 9, 9, 3, 0, 9, 3, 7, 3, 2, 3, 2, 7, 2, 4,\n",
       "       2, 3, 1, 7, 3, 7, 7, 6, 7, 8, 9, 9, 1, 9, 9, 4, 1, 9, 6, 9, 4, 7,\n",
       "       9, 1, 9, 2, 2, 3, 0, 8, 5, 1, 4, 7, 3, 7, 7, 4, 2, 1, 9, 5, 0, 0,\n",
       "       7, 3, 5, 1, 6, 7, 1, 2, 8, 1, 8, 0, 9, 5, 6, 8, 5, 7, 8, 0, 6, 7,\n",
       "       9, 2, 5, 7, 3, 6, 2, 1, 1, 5])"
      ]
     },
     "execution_count": 11,
     "metadata": {},
     "output_type": "execute_result"
    }
   ],
   "source": [
    "Y_dev"
   ]
  },
  {
   "cell_type": "code",
   "execution_count": 12,
   "id": "87fab10f",
   "metadata": {
    "execution": {
     "iopub.execute_input": "2025-07-11T05:19:53.687626Z",
     "iopub.status.busy": "2025-07-11T05:19:53.687426Z",
     "iopub.status.idle": "2025-07-11T05:19:53.691537Z",
     "shell.execute_reply": "2025-07-11T05:19:53.691058Z"
    },
    "papermill": {
     "duration": 0.009196,
     "end_time": "2025-07-11T05:19:53.692510",
     "exception": false,
     "start_time": "2025-07-11T05:19:53.683314",
     "status": "completed"
    },
    "tags": []
   },
   "outputs": [
    {
     "data": {
      "text/plain": [
       "(784, 1000)"
      ]
     },
     "execution_count": 12,
     "metadata": {},
     "output_type": "execute_result"
    }
   ],
   "source": [
    "X_dev.shape"
   ]
  },
  {
   "cell_type": "code",
   "execution_count": 13,
   "id": "9fa90a23",
   "metadata": {
    "execution": {
     "iopub.execute_input": "2025-07-11T05:19:53.700225Z",
     "iopub.status.busy": "2025-07-11T05:19:53.699675Z",
     "iopub.status.idle": "2025-07-11T05:19:53.703702Z",
     "shell.execute_reply": "2025-07-11T05:19:53.703197Z"
    },
    "papermill": {
     "duration": 0.008841,
     "end_time": "2025-07-11T05:19:53.704712",
     "exception": false,
     "start_time": "2025-07-11T05:19:53.695871",
     "status": "completed"
    },
    "tags": []
   },
   "outputs": [
    {
     "data": {
      "text/plain": [
       "array([9, 7, 4, ..., 8, 4, 3])"
      ]
     },
     "execution_count": 13,
     "metadata": {},
     "output_type": "execute_result"
    }
   ],
   "source": [
    "Y_train"
   ]
  },
  {
   "cell_type": "code",
   "execution_count": 14,
   "id": "1b9dddcf",
   "metadata": {
    "execution": {
     "iopub.execute_input": "2025-07-11T05:19:53.712487Z",
     "iopub.status.busy": "2025-07-11T05:19:53.712317Z",
     "iopub.status.idle": "2025-07-11T05:19:53.716659Z",
     "shell.execute_reply": "2025-07-11T05:19:53.716076Z"
    },
    "papermill": {
     "duration": 0.009462,
     "end_time": "2025-07-11T05:19:53.717774",
     "exception": false,
     "start_time": "2025-07-11T05:19:53.708312",
     "status": "completed"
    },
    "tags": []
   },
   "outputs": [
    {
     "data": {
      "text/plain": [
       "array([[0., 0., 0., ..., 0., 0., 0.],\n",
       "       [0., 0., 0., ..., 0., 0., 0.],\n",
       "       [0., 0., 0., ..., 0., 0., 0.],\n",
       "       ...,\n",
       "       [0., 0., 0., ..., 0., 0., 0.],\n",
       "       [0., 0., 0., ..., 0., 0., 0.],\n",
       "       [0., 0., 0., ..., 0., 0., 0.]])"
      ]
     },
     "execution_count": 14,
     "metadata": {},
     "output_type": "execute_result"
    }
   ],
   "source": [
    "X_train"
   ]
  },
  {
   "cell_type": "code",
   "execution_count": 15,
   "id": "d3d873de",
   "metadata": {
    "execution": {
     "iopub.execute_input": "2025-07-11T05:19:53.725190Z",
     "iopub.status.busy": "2025-07-11T05:19:53.724943Z",
     "iopub.status.idle": "2025-07-11T05:19:53.733797Z",
     "shell.execute_reply": "2025-07-11T05:19:53.733364Z"
    },
    "papermill": {
     "duration": 0.013716,
     "end_time": "2025-07-11T05:19:53.734862",
     "exception": false,
     "start_time": "2025-07-11T05:19:53.721146",
     "status": "completed"
    },
    "tags": []
   },
   "outputs": [],
   "source": [
    "def init_params():\n",
    "    W1 = np.random.randn(128, 784) * np.sqrt(2. / 784)\n",
    "    b1 = np.zeros((128, 1))\n",
    "    W2 = np.random.randn(10, 128) * np.sqrt(2. / 10)\n",
    "    b2 = np.zeros((10, 1))\n",
    "    return W1, b1, W2, b2\n",
    "    \n",
    "def ReLU(Z):\n",
    "    return np.maximum(0, Z)\n",
    "\n",
    "def softmax(Z):\n",
    "    expZ = np.exp(Z - np.max(Z, axis=0, keepdims=True))\n",
    "    return expZ / (np.sum(expZ, axis=0, keepdims=True) + 1e-8)\n",
    "\n",
    "def forward_prop(W1, b1, W2, b2, X):\n",
    "    Z1 = W1.dot(X) + b1\n",
    "    A1 = ReLU(Z1)\n",
    "    Z2 = W2.dot(A1) + b2\n",
    "    A2 = softmax(Z2)\n",
    "    return Z1, A1, Z2, A2\n",
    "\n",
    "\n",
    "def one_hot(Y):\n",
    "    one_hot_Y = np.zeros((Y.size, Y.max() + 1))\n",
    "    one_hot_Y[np.arange(Y.size), Y] = 1\n",
    "    one_hot_Y = one_hot_Y.T\n",
    "    return one_hot_Y\n",
    "\n",
    "def deriv_ReLU(Z):\n",
    "    return (Z > 0).astype(float)\n",
    "\n",
    "def back_prop(Z1, A1, Z2, A2, W2,X, Y):\n",
    "    m = Y.size\n",
    "    one_hot_Y = one_hot(Y)\n",
    "    dZ2 = A2 - one_hot_Y\n",
    "    dW2 = 1 / m * dZ2.dot(A1.T)\n",
    "    db2 = 1 / m * np.sum(dZ2, 1, keepdims=True)\n",
    "    dZ1 = W2.T.dot(dZ2) * deriv_ReLU(Z1)\n",
    "    dW1 = 1 / m * dZ1.dot(X.T)\n",
    "    db1 = 1 / m * np.sum(dZ1, 1, keepdims=True)\n",
    "    return dW1, db1, dW2, db2\n",
    "\n",
    "def update_params(W1, b1, W2, b2, dW1, db1, dW2, db2, alpha):\n",
    "    W1 = W1 - alpha * dW1\n",
    "    b1 = b1 - alpha * db1\n",
    "    W2 = W2 - alpha * dW2\n",
    "    b2 = b2 - alpha * db2\n",
    "    return W1, b1, W2, b2\n",
    "\n",
    "def get_accuracy(predictions, Y):\n",
    "    print(predictions, Y)\n",
    "    return np.sum(predictions == Y) / Y.size\n",
    "\n",
    "def get_predictions(A2):\n",
    "    return np.argmax(A2, 0)"
   ]
  },
  {
   "cell_type": "code",
   "execution_count": 16,
   "id": "63328558",
   "metadata": {
    "execution": {
     "iopub.execute_input": "2025-07-11T05:19:53.742867Z",
     "iopub.status.busy": "2025-07-11T05:19:53.742281Z",
     "iopub.status.idle": "2025-07-11T05:19:53.747428Z",
     "shell.execute_reply": "2025-07-11T05:19:53.746714Z"
    },
    "papermill": {
     "duration": 0.010191,
     "end_time": "2025-07-11T05:19:53.748577",
     "exception": false,
     "start_time": "2025-07-11T05:19:53.738386",
     "status": "completed"
    },
    "tags": []
   },
   "outputs": [],
   "source": [
    "def gradient_descent(X, Y, iterations, alpha):\n",
    "    W1, b1, W2, b2 = init_params()\n",
    "    for i in range (iterations):\n",
    "        Z1, A1, Z2, A2 = forward_prop(W1, b1, W2, b2, X)\n",
    "        dW1, db1, dW2, db2 = back_prop(Z1, A1, Z2, A2, W2, X, Y)\n",
    "        W1, b1, W2, b2 = update_params(W1, b1, W2, b2, dW1, db1, dW2, db2, alpha)\n",
    "        if i % 10 == 0:\n",
    "            print(\"Iteration:\", i)\n",
    "            print(\"Accuracy:\", get_accuracy(get_predictions(A2), Y))\n",
    "            loss = -np.sum(one_hot(Y) * np.log(A2 + 1e-8)) / m\n",
    "            print(\"Loss:\", loss)\n",
    "\n",
    "    return W1, b1, W2, b2\n",
    "\n"
   ]
  },
  {
   "cell_type": "code",
   "execution_count": 17,
   "id": "a376ebcc",
   "metadata": {
    "execution": {
     "iopub.execute_input": "2025-07-11T05:19:53.756658Z",
     "iopub.status.busy": "2025-07-11T05:19:53.756494Z",
     "iopub.status.idle": "2025-07-11T05:22:19.706874Z",
     "shell.execute_reply": "2025-07-11T05:22:19.705982Z"
    },
    "papermill": {
     "duration": 145.955895,
     "end_time": "2025-07-11T05:22:19.708465",
     "exception": false,
     "start_time": "2025-07-11T05:19:53.752570",
     "status": "completed"
    },
    "tags": []
   },
   "outputs": [
    {
     "name": "stdout",
     "output_type": "stream",
     "text": [
      "Iteration: 0\n",
      "[3 8 8 ... 9 8 3] [9 7 4 ... 8 4 3]\n",
      "Accuracy: 0.12697560975609756\n",
      "Loss: 2.754501520443397\n",
      "Iteration: 10\n",
      "[3 8 8 ... 5 4 3] [9 7 4 ... 8 4 3]\n",
      "Accuracy: 0.37490243902439024\n",
      "Loss: 1.8011045510835195\n",
      "Iteration: 20\n",
      "[3 8 8 ... 5 4 3] [9 7 4 ... 8 4 3]\n",
      "Accuracy: 0.547439024390244\n",
      "Loss: 1.391828807286846\n",
      "Iteration: 30\n",
      "[3 8 8 ... 5 4 3] [9 7 4 ... 8 4 3]\n",
      "Accuracy: 0.6409268292682927\n",
      "Loss: 1.1553967406764627\n",
      "Iteration: 40\n",
      "[3 8 8 ... 5 4 3] [9 7 4 ... 8 4 3]\n",
      "Accuracy: 0.6969512195121951\n",
      "Loss: 1.0025087440953842\n",
      "Iteration: 50\n",
      "[3 1 8 ... 5 4 3] [9 7 4 ... 8 4 3]\n",
      "Accuracy: 0.7323170731707317\n",
      "Loss: 0.8957823693821556\n",
      "Iteration: 60\n",
      "[9 1 4 ... 5 4 3] [9 7 4 ... 8 4 3]\n",
      "Accuracy: 0.7582682926829268\n",
      "Loss: 0.8170540763868933\n",
      "Iteration: 70\n",
      "[9 1 4 ... 5 4 3] [9 7 4 ... 8 4 3]\n",
      "Accuracy: 0.7773170731707317\n",
      "Loss: 0.7565513345578118\n",
      "Iteration: 80\n",
      "[9 1 4 ... 5 4 3] [9 7 4 ... 8 4 3]\n",
      "Accuracy: 0.7930487804878049\n",
      "Loss: 0.7085751427020058\n",
      "Iteration: 90\n",
      "[9 1 4 ... 5 4 3] [9 7 4 ... 8 4 3]\n",
      "Accuracy: 0.8045365853658537\n",
      "Loss: 0.6694038723702893\n",
      "Iteration: 100\n",
      "[9 1 4 ... 8 4 3] [9 7 4 ... 8 4 3]\n",
      "Accuracy: 0.8137317073170731\n",
      "Loss: 0.6368486197005907\n",
      "Iteration: 110\n",
      "[9 1 4 ... 8 4 3] [9 7 4 ... 8 4 3]\n",
      "Accuracy: 0.8214634146341463\n",
      "Loss: 0.6093192387634453\n",
      "Iteration: 120\n",
      "[9 3 4 ... 8 4 3] [9 7 4 ... 8 4 3]\n",
      "Accuracy: 0.8282439024390243\n",
      "Loss: 0.5856761421626079\n",
      "Iteration: 130\n",
      "[9 3 4 ... 8 4 3] [9 7 4 ... 8 4 3]\n",
      "Accuracy: 0.835170731707317\n",
      "Loss: 0.5651339216735458\n",
      "Iteration: 140\n",
      "[9 3 4 ... 8 4 3] [9 7 4 ... 8 4 3]\n",
      "Accuracy: 0.840609756097561\n",
      "Loss: 0.5470775058854322\n",
      "Iteration: 150\n",
      "[9 3 4 ... 8 4 3] [9 7 4 ... 8 4 3]\n",
      "Accuracy: 0.8448048780487805\n",
      "Loss: 0.5310834384199752\n",
      "Iteration: 160\n",
      "[9 3 4 ... 8 4 3] [9 7 4 ... 8 4 3]\n",
      "Accuracy: 0.8489268292682927\n",
      "Loss: 0.516773013693756\n",
      "Iteration: 170\n",
      "[9 3 4 ... 8 4 3] [9 7 4 ... 8 4 3]\n",
      "Accuracy: 0.8523658536585366\n",
      "Loss: 0.5038704184014916\n",
      "Iteration: 180\n",
      "[9 3 4 ... 8 4 3] [9 7 4 ... 8 4 3]\n",
      "Accuracy: 0.8556341463414634\n",
      "Loss: 0.4921649741142863\n",
      "Iteration: 190\n",
      "[9 3 4 ... 8 4 3] [9 7 4 ... 8 4 3]\n",
      "Accuracy: 0.8588048780487805\n",
      "Loss: 0.4814969571832487\n",
      "Iteration: 200\n",
      "[9 3 4 ... 8 4 3] [9 7 4 ... 8 4 3]\n",
      "Accuracy: 0.8619024390243902\n",
      "Loss: 0.4717178937300637\n",
      "Iteration: 210\n",
      "[9 3 4 ... 8 4 3] [9 7 4 ... 8 4 3]\n",
      "Accuracy: 0.8642926829268293\n",
      "Loss: 0.4627090657942385\n",
      "Iteration: 220\n",
      "[9 3 4 ... 8 4 3] [9 7 4 ... 8 4 3]\n",
      "Accuracy: 0.8668292682926829\n",
      "Loss: 0.4543847352708167\n",
      "Iteration: 230\n",
      "[9 3 4 ... 8 4 3] [9 7 4 ... 8 4 3]\n",
      "Accuracy: 0.8695853658536585\n",
      "Loss: 0.44665311167219696\n",
      "Iteration: 240\n",
      "[9 3 4 ... 8 4 3] [9 7 4 ... 8 4 3]\n",
      "Accuracy: 0.8716585365853659\n",
      "Loss: 0.43944864632755376\n",
      "Iteration: 250\n",
      "[9 3 4 ... 8 4 3] [9 7 4 ... 8 4 3]\n",
      "Accuracy: 0.8735853658536585\n",
      "Loss: 0.43271231127409476\n",
      "Iteration: 260\n",
      "[9 3 4 ... 8 4 3] [9 7 4 ... 8 4 3]\n",
      "Accuracy: 0.8755365853658537\n",
      "Loss: 0.42639293620349644\n",
      "Iteration: 270\n",
      "[9 3 4 ... 8 4 3] [9 7 4 ... 8 4 3]\n",
      "Accuracy: 0.8774878048780488\n",
      "Loss: 0.4204518648486679\n",
      "Iteration: 280\n",
      "[9 3 4 ... 8 4 3] [9 7 4 ... 8 4 3]\n",
      "Accuracy: 0.8789268292682927\n",
      "Loss: 0.4148526918519643\n",
      "Iteration: 290\n",
      "[9 3 4 ... 8 4 3] [9 7 4 ... 8 4 3]\n",
      "Accuracy: 0.8800975609756098\n",
      "Loss: 0.4095622200404853\n",
      "Iteration: 300\n",
      "[9 3 4 ... 8 4 3] [9 7 4 ... 8 4 3]\n",
      "Accuracy: 0.8816585365853659\n",
      "Loss: 0.4045534440537243\n",
      "Iteration: 310\n",
      "[9 3 4 ... 8 4 3] [9 7 4 ... 8 4 3]\n",
      "Accuracy: 0.8830975609756098\n",
      "Loss: 0.39980250173515613\n",
      "Iteration: 320\n",
      "[9 3 4 ... 8 4 3] [9 7 4 ... 8 4 3]\n",
      "Accuracy: 0.8848292682926829\n",
      "Loss: 0.3952850333868453\n",
      "Iteration: 330\n",
      "[9 3 4 ... 8 4 3] [9 7 4 ... 8 4 3]\n",
      "Accuracy: 0.8859512195121951\n",
      "Loss: 0.39098659670245406\n",
      "Iteration: 340\n",
      "[9 3 4 ... 8 4 3] [9 7 4 ... 8 4 3]\n",
      "Accuracy: 0.8868292682926829\n",
      "Loss: 0.3868862265362923\n",
      "Iteration: 350\n",
      "[9 3 4 ... 8 4 3] [9 7 4 ... 8 4 3]\n",
      "Accuracy: 0.8879268292682927\n",
      "Loss: 0.3829649339590184\n",
      "Iteration: 360\n",
      "[9 3 4 ... 8 4 3] [9 7 4 ... 8 4 3]\n",
      "Accuracy: 0.8890975609756098\n",
      "Loss: 0.3792097920123537\n",
      "Iteration: 370\n",
      "[9 3 4 ... 8 4 3] [9 7 4 ... 8 4 3]\n",
      "Accuracy: 0.8898292682926829\n",
      "Loss: 0.37560587303515847\n",
      "Iteration: 380\n",
      "[9 3 4 ... 8 4 3] [9 7 4 ... 8 4 3]\n",
      "Accuracy: 0.8905365853658537\n",
      "Loss: 0.3721488333235592\n",
      "Iteration: 390\n",
      "[9 3 4 ... 8 4 3] [9 7 4 ... 8 4 3]\n",
      "Accuracy: 0.8919512195121951\n",
      "Loss: 0.36882353026228765\n",
      "Iteration: 400\n",
      "[9 3 4 ... 8 4 3] [9 7 4 ... 8 4 3]\n",
      "Accuracy: 0.8927560975609756\n",
      "Loss: 0.3656251080549918\n",
      "Iteration: 410\n",
      "[9 3 4 ... 8 4 3] [9 7 4 ... 8 4 3]\n",
      "Accuracy: 0.8938292682926829\n",
      "Loss: 0.36254863250610253\n",
      "Iteration: 420\n",
      "[9 3 4 ... 8 4 3] [9 7 4 ... 8 4 3]\n",
      "Accuracy: 0.8949268292682927\n",
      "Loss: 0.3595826891469644\n",
      "Iteration: 430\n",
      "[9 3 4 ... 8 4 3] [9 7 4 ... 8 4 3]\n",
      "Accuracy: 0.8959512195121951\n",
      "Loss: 0.3567200200883547\n",
      "Iteration: 440\n",
      "[9 3 4 ... 8 4 3] [9 7 4 ... 8 4 3]\n",
      "Accuracy: 0.8968048780487805\n",
      "Loss: 0.3539541870520961\n",
      "Iteration: 450\n",
      "[9 3 4 ... 8 4 3] [9 7 4 ... 8 4 3]\n",
      "Accuracy: 0.897390243902439\n",
      "Loss: 0.3512810632214525\n",
      "Iteration: 460\n",
      "[9 3 4 ... 8 4 3] [9 7 4 ... 8 4 3]\n",
      "Accuracy: 0.8981219512195122\n",
      "Loss: 0.3486922894203893\n",
      "Iteration: 470\n",
      "[9 3 4 ... 8 4 3] [9 7 4 ... 8 4 3]\n",
      "Accuracy: 0.8991219512195122\n",
      "Loss: 0.34618355246653615\n",
      "Iteration: 480\n",
      "[9 3 4 ... 8 4 3] [9 7 4 ... 8 4 3]\n",
      "Accuracy: 0.8995365853658537\n",
      "Loss: 0.343749738635887\n",
      "Iteration: 490\n",
      "[9 3 4 ... 8 4 3] [9 7 4 ... 8 4 3]\n",
      "Accuracy: 0.9003414634146342\n",
      "Loss: 0.3413895498331841\n"
     ]
    }
   ],
   "source": [
    "W1, b1, W2, b2 = gradient_descent(X_train, Y_train, 500, 0.01)"
   ]
  },
  {
   "cell_type": "code",
   "execution_count": 18,
   "id": "3a3ea20a",
   "metadata": {
    "execution": {
     "iopub.execute_input": "2025-07-11T05:22:19.722152Z",
     "iopub.status.busy": "2025-07-11T05:22:19.721485Z",
     "iopub.status.idle": "2025-07-11T05:22:19.727687Z",
     "shell.execute_reply": "2025-07-11T05:22:19.726952Z"
    },
    "papermill": {
     "duration": 0.014137,
     "end_time": "2025-07-11T05:22:19.728883",
     "exception": false,
     "start_time": "2025-07-11T05:22:19.714746",
     "status": "completed"
    },
    "tags": []
   },
   "outputs": [],
   "source": [
    "np.savez('/kaggle/working/my_model_weights.npz', W1=W1, b1=b1, W2=W2, b2=b2)"
   ]
  },
  {
   "cell_type": "code",
   "execution_count": null,
   "id": "937ce8b3",
   "metadata": {
    "papermill": {
     "duration": 0.00565,
     "end_time": "2025-07-11T05:22:19.740866",
     "exception": false,
     "start_time": "2025-07-11T05:22:19.735216",
     "status": "completed"
    },
    "tags": []
   },
   "outputs": [],
   "source": []
  }
 ],
 "metadata": {
  "kaggle": {
   "accelerator": "nvidiaTeslaT4",
   "dataSources": [
    {
     "databundleVersionId": 861823,
     "sourceId": 3004,
     "sourceType": "competition"
    }
   ],
   "dockerImageVersionId": 31040,
   "isGpuEnabled": true,
   "isInternetEnabled": false,
   "language": "python",
   "sourceType": "notebook"
  },
  "kernelspec": {
   "display_name": "Python 3",
   "language": "python",
   "name": "python3"
  },
  "language_info": {
   "codemirror_mode": {
    "name": "ipython",
    "version": 3
   },
   "file_extension": ".py",
   "mimetype": "text/x-python",
   "name": "python",
   "nbconvert_exporter": "python",
   "pygments_lexer": "ipython3",
   "version": "3.11.11"
  },
  "papermill": {
   "default_parameters": {},
   "duration": 155.757621,
   "end_time": "2025-07-11T05:22:20.164553",
   "environment_variables": {},
   "exception": null,
   "input_path": "__notebook__.ipynb",
   "output_path": "__notebook__.ipynb",
   "parameters": {},
   "start_time": "2025-07-11T05:19:44.406932",
   "version": "2.6.0"
  }
 },
 "nbformat": 4,
 "nbformat_minor": 5
}
